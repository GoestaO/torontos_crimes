{
 "cells": [
  {
   "cell_type": "code",
   "execution_count": 177,
   "metadata": {},
   "outputs": [],
   "source": [
    "from pandas import read_csv, to_datetime\n",
    "import datetime as dt\n",
    "import matplotlib.pyplot as plt\n",
    "\n",
    "data = read_csv('https://opendata.arcgis.com/datasets/1d514f357cd24a9c93317c99c9679ebb_0.csv')\n"
   ]
  },
  {
   "cell_type": "markdown",
   "metadata": {},
   "source": [
    "## Drop duplicated event_unique_id"
   ]
  },
  {
   "cell_type": "code",
   "execution_count": 178,
   "metadata": {},
   "outputs": [
    {
     "data": {
      "image/png": "[encoded data removed]",
      "text/plain": [
       "<matplotlib.figure.Figure at 0x110131d68>"
      ]
     },
     "metadata": {},
     "output_type": "display_data"
    }
   ],
   "source": [
    "data.event_unique_id.drop_duplicates\n",
    "premisetype = data.groupby(\"premisetype\").size()\n",
    "premisetype.plot(kind='bar', x=premisetype, grid=True, title='Number of crimes by premise type')\n",
    "plt.show()\n",
    "#premisetype"
   ]
  },
  {
   "cell_type": "code",
   "execution_count": 195,
   "metadata": {},
   "outputs": [
    {
     "name": "stderr",
     "output_type": "stream",
     "text": [
      "/Users/gostendorf/.virtualenvs/finance/lib/python3.5/site-packages/pandas/core/generic.py:3110: SettingWithCopyWarning: \n",
      "A value is trying to be set on a copy of a slice from a DataFrame.\n",
      "Try using .loc[row_indexer,col_indexer] = value instead\n",
      "\n",
      "See the caveats in the documentation: http://pandas.pydata.org/pandas-docs/stable/indexing.html#indexing-view-versus-copy\n",
      "  self[name] = value\n"
     ]
    }
   ],
   "source": [
    "data['occurrencedate'] = to_datetime(data['occurrencedate'])\n",
    "year_2016 = data[data.occurrencedate.dt.year == 2016]\n",
    "year_2016.occurrencedate = year_2016.occurrencedate.dt.date\n",
    "#year_2016.tail()\n",
    "\n",
    "#year_2016\n",
    "#group_by_date = year_2016.groupby('occurrencedate').size()\n",
    "\n",
    "#group_by_date\n",
    "#group_by_date.head()\n",
    "#group_by_date\n",
    "#group_by_date['date']\n",
    "#group_by_date\n",
    "\n",
    "#group_by_date.plot(grid=True, title='Number of crimes by date', figsize = (40,10))\n",
    "#plt.show()\n",
    "#group_by_date.premisetype.tail()\n"
   ]
  },
  {
   "cell_type": "code",
   "execution_count": null,
   "metadata": {
    "collapsed": true
   },
   "outputs": [],
   "source": []
  }
 ],
 "metadata": {
  "kernelspec": {
   "display_name": "Python 3",
   "language": "python",
   "name": "python3"
  },
  "language_info": {
   "codemirror_mode": {
    "name": "ipython",
    "version": 3
   },
   "file_extension": ".py",
   "mimetype": "text/x-python",
   "name": "python",
   "nbconvert_exporter": "python",
   "pygments_lexer": "ipython3",
   "version": "3.5.1"
  }
 },
 "nbformat": 4,
 "nbformat_minor": 2
}
